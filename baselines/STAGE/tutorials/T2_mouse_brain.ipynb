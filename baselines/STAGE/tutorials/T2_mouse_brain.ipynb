{
 "cells": [
  {
   "cell_type": "markdown",
   "metadata": {},
   "source": [
    "## Data preprocessing"
   ]
  },
  {
   "cell_type": "code",
   "execution_count": 2,
   "metadata": {
    "ExecuteTime": {
     "end_time": "2024-06-28T05:11:36.478519500Z",
     "start_time": "2024-06-28T05:11:34.068403100Z"
    }
   },
   "outputs": [],
   "source": [
    "import warnings\n",
    "warnings.filterwarnings(\"ignore\")\n",
    "import STAGE\n",
    "import scanpy as sc\n",
    "import matplotlib.pyplot as plt"
   ]
  },
  {
   "cell_type": "code",
   "execution_count": 2,
   "metadata": {
    "scrolled": true,
    "ExecuteTime": {
     "end_time": "2024-05-16T14:55:07.696867300Z",
     "start_time": "2024-05-16T14:55:07.286810900Z"
    }
   },
   "outputs": [],
   "source": [
    "input_dir = 'Data/T2'\n",
    "adata = sc.read_visium(path=input_dir, count_file='filtered_feature_bc_matrix.h5')\n",
    "adata.var_names_make_unique()"
   ]
  },
  {
   "cell_type": "code",
   "execution_count": 3,
   "metadata": {
    "ExecuteTime": {
     "end_time": "2024-05-16T14:55:07.712867300Z",
     "start_time": "2024-05-16T14:55:07.697867100Z"
    }
   },
   "outputs": [],
   "source": [
    "# Coordinates (array_col, array_row)\n",
    "adata.obsm[\"coord\"]=adata.obs.loc[:, ['array_col', 'array_row']].to_numpy()"
   ]
  },
  {
   "cell_type": "code",
   "execution_count": 4,
   "metadata": {
    "ExecuteTime": {
     "end_time": "2024-05-16T14:55:08.374322Z",
     "start_time": "2024-05-16T14:55:07.713867300Z"
    }
   },
   "outputs": [],
   "source": [
    "# Normalization\n",
    "sc.pp.highly_variable_genes(adata, flavor=\"seurat_v3\", n_top_genes=5000)\n",
    "# sc.pp.normalize_total(adata, target_sum=1e4)\n",
    "# sc.pp.log1p(adata)"
   ]
  },
  {
   "cell_type": "code",
   "execution_count": 5,
   "outputs": [
    {
     "data": {
      "text/plain": "AnnData object with n_obs × n_vars = 2903 × 32285\n    obs: 'in_tissue', 'array_row', 'array_col'\n    var: 'gene_ids', 'feature_types', 'genome', 'highly_variable', 'highly_variable_rank', 'means', 'variances', 'variances_norm'\n    uns: 'spatial', 'hvg'\n    obsm: 'spatial', 'coord'"
     },
     "execution_count": 5,
     "metadata": {},
     "output_type": "execute_result"
    }
   ],
   "source": [
    "adata"
   ],
   "metadata": {
    "collapsed": false,
    "ExecuteTime": {
     "end_time": "2024-05-16T14:55:08.390186800Z",
     "start_time": "2024-05-16T14:55:08.375327400Z"
    }
   }
  },
  {
   "cell_type": "code",
   "execution_count": 3,
   "outputs": [],
   "source": [
    "import pandas as pd\n",
    "import anndata as ad\n",
    "counts = pd.read_csv(\"E:\\\\data\\\\HN\\cnts.csv\", index_col=0)\n",
    "coords = pd.read_csv(\"E:\\\\data\\\\HN\\locs.csv\", index_col=0)\n",
    "coords = coords // 16\n",
    "adata = ad.AnnData(X=counts.values, obs=coords, var=pd.DataFrame(index=counts.columns.values))\n",
    "adata.obsm[\"coord\"]=adata.obs.loc[:, ['x', 'y']].to_numpy()\n",
    "sc.pp.highly_variable_genes(adata, flavor=\"seurat_v3\", n_top_genes=377)"
   ],
   "metadata": {
    "collapsed": false,
    "ExecuteTime": {
     "end_time": "2024-06-28T05:11:38.755565700Z",
     "start_time": "2024-06-28T05:11:38.636539300Z"
    }
   }
  },
  {
   "cell_type": "markdown",
   "metadata": {},
   "source": [
    "## Running model"
   ]
  },
  {
   "cell_type": "code",
   "execution_count": 4,
   "metadata": {
    "scrolled": false,
    "ExecuteTime": {
     "end_time": "2024-06-28T05:50:10.301800600Z",
     "start_time": "2024-06-28T05:12:07.369735600Z"
    }
   },
   "outputs": [
    {
     "name": "stderr",
     "output_type": "stream",
     "text": [
      "Epochs: 100%|██████████| 10000/10000 [38:00<00:00,  4.39it/s, latent_loss: 0.16230, recon_loss: 0.19898, total_loss: 0.01822]\n"
     ]
    }
   ],
   "source": [
    "adata_stage=STAGE.STAGE(\n",
    "    adata, \n",
    "    save_path='./T2_HBC_2',\n",
    "    data_type='10x', \n",
    "    experiment='generation', \n",
    "    coord_sf=77, \n",
    "    train_epoch=10000,\n",
    "    seed=1234,\n",
    "    batch_size=512, \n",
    "    learning_rate=1e-3, \n",
    "    w_recon=0.1, \n",
    "    w_w=0.1, \n",
    "    w_l1=0.1,\n",
    "    relu=True,\n",
    "    device='cuda:0'\n",
    ")"
   ]
  },
  {
   "cell_type": "code",
   "execution_count": 5,
   "metadata": {
    "ExecuteTime": {
     "end_time": "2024-06-28T05:53:18.773092500Z",
     "start_time": "2024-06-28T05:53:18.738270500Z"
    }
   },
   "outputs": [
    {
     "data": {
      "text/plain": "array([[ 0.     ,  0.     ,  0.     , ...,  0.     ,  0.     ,  0.     ],\n       [ 0.     ,  0.     ,  0.     , ...,  0.     ,  0.     ,  0.     ],\n       [ 0.     ,  0.     ,  0.     , ...,  0.     ,  0.     ,  0.     ],\n       ...,\n       [ 0.     ,  0.     ,  0.     , ...,  0.     ,  0.     , 80.6191 ],\n       [ 0.     ,  0.     ,  0.     , ...,  0.     ,  0.     , 80.76536],\n       [ 0.     ,  0.     ,  0.     , ...,  0.     ,  0.     , 80.9117 ]],\n      dtype=float32)"
     },
     "execution_count": 5,
     "metadata": {},
     "output_type": "execute_result"
    }
   ],
   "source": [
    "adata_stage.X"
   ]
  },
  {
   "cell_type": "code",
   "execution_count": 6,
   "outputs": [],
   "source": [
    "gene = adata_stage.X[:343800].reshape((900, 382, -1))\n",
    "gene = gene // 37\n",
    "import numpy as np\n",
    "gene = np.transpose(gene, (2, 0, 1))\n",
    "import pickle\n",
    "with open('genes_3D.pkl', 'wb') as f:\n",
    "    pickle.dump(gene, f)"
   ],
   "metadata": {
    "collapsed": false,
    "ExecuteTime": {
     "end_time": "2024-06-28T06:05:48.038318900Z",
     "start_time": "2024-06-28T06:05:45.264240900Z"
    }
   }
  }
 ],
 "metadata": {
  "kernelspec": {
   "display_name": "Python 3",
   "language": "python",
   "name": "python3"
  },
  "language_info": {
   "codemirror_mode": {
    "name": "ipython",
    "version": 3
   },
   "file_extension": ".py",
   "mimetype": "text/x-python",
   "name": "python",
   "nbconvert_exporter": "python",
   "pygments_lexer": "ipython3",
   "version": "3.7.0"
  }
 },
 "nbformat": 4,
 "nbformat_minor": 2
}
